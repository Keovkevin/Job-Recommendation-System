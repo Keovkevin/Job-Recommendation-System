{
  "cells": [
    {
      "metadata": {
        "_uuid": "8f2839f25d086af736a60e9eeb907d3b93b6e0e5",
        "_cell_guid": "b1076dfc-b9ad-4769-8c92-a6c4dae69d19",
        "trusted": true
      },
      "cell_type": "code",
      "source": "# This Python 3 environment comes with many helpful analytics libraries installed\n# It is defined by the kaggle/python docker image: https://github.com/kaggle/docker-python\n# For example, here's several helpful packages to load in \n\nimport numpy as np # linear algebra\nimport pandas as pd # data processing, CSV file I/O (e.g. pd.read_csv)\n\n# Input data files are available in the \"../input/\" directory.\n# For example, running this (by clicking run or pressing Shift+Enter) will list the files in the input directory\n\nimport os\nprint(os.listdir(\"../input\"))\nimport spacy\nfrom spacy import displacy\n# Any results you write to the current directory are saved as output.",
      "execution_count": 7,
      "outputs": [
        {
          "output_type": "stream",
          "text": "['dice_com-job_us_sample.csv']\n",
          "name": "stdout"
        }
      ]
    },
    {
      "metadata": {
        "_cell_guid": "79c7e3d0-c299-4dcb-8224-4455121ee9b0",
        "_uuid": "d629ff2d2480ee46fbb7e2d37f6b5fab8052498a",
        "trusted": true
      },
      "cell_type": "code",
      "source": "df2=pd.read_csv(\"../input/dice_com-job_us_sample.csv\")\nprint(df2.head())\njobs=[]\nfor job_title  in df2.jobtitle:\n    if(job_title.lower() not in jobs):\n        jobs.append(job_title)\n#print(jobs)\njob_description=np.asarray(df2.loc[:,\"jobdescription\"])\nprint(len(job_description[0:5]))\nnlp=spacy.load('en')\n\ndef remove_whitespace_entities(doc):\n    doc.ents=[x for x in doc.ents if not (x.text.isspace())]\n    return doc\nnlp.add_pipe(remove_whitespace_entities,after='ner')\narticle=job_description[2]\ndoc=nlp(article)\n#article=[x for x in nlp(article) if not x.is_stop and x.pos!='PUNCT']\n#article=[x.lemma_ for x in article]\n\n#Using Named Entity Recognition\n# displacy.render(nlp(str(article)), jupyter=True, style='ent')\n# nlp(str(article)).ents\n\n#Comparing similarity of each word with a given set of words. If the similarity score is high, the word is related to technology. Hence, it should be considered.\ndoc_given_text=nlp(u'computer science')\nsample_word=nlp(u'Java')\nwords=[]\nfor ele in doc:\n    if(doc_given_text.similarity(ele)>0.5):\n        words.append(ele.text)\nprint(words)\nprint(doc_given_text.similarity(sample_word))\n#print(doc_given_text.similarity(doc[3]))\n#print(doc[3].vector)\n",
      "execution_count": 30,
      "outputs": [
        {
          "output_type": "stream",
          "text": "                                       advertiserurl                ...                                          uniq_id\n0  https://www.dice.com/jobs/detail/AUTOMATION-TE...                ...                 418ff92580b270ef4e7c14f0ddfc36b4\n1  https://www.dice.com/jobs/detail/Information-S...                ...                 8aec88cba08d53da65ab99cf20f6f9d9\n2  https://www.dice.com/jobs/detail/Business-Solu...                ...                 46baa1f69ac07779274bcd90b85d9a72\n3  https://www.dice.com/jobs/detail/Java-Develope...                ...                 3941b2f206ae0f900c4fba4ac0b18719\n4  https://www.dice.com/jobs/detail/DevOps-Engine...                ...                 45efa1f6bc65acc32bbbb953a1ed13b7\n\n[5 rows x 12 columns]\n5\n['GalaxE.SolutionsEvery', 'day', 'world', 'success', 'firm', 'team', 'collaboration', 'innovation', 'collaboration', 'innovation', 'tomorrow', 'security', 'company', 'company', 'work', 'leadership', 'innovation', 'way', 'spirit', 'work', 'part', 'team', 'work', 'roadmap', 'reporting', 'platform', 'consideration', 'business', 'budget', 'architecture', 'ETL', 'guidance', 'project', 'project', 'data', 'reporting', 'process', 'quality', 'development', 'data', 'governance', 'version', 'control', 'deployment', 'change', 'management', 'quality', 'assurance', 'testing', 'user', 'acceptance', 'testing', 'understanding', 'warehousing', 'data', 'discovery', 'data', 'presentation', 'layer', 'experience', 'knowledge', 'warehouse', 'Experience', 'design', 'building', 'enterprise', 'data', 'experience', 'report', 'web', 'dashboard', 'development', 'Experience', 'database', 'platformsExperience', 'analysis', 'quality', 'understanding', 'scale', 'data', 'methodologiesExperience', 'requirementsExperience', 'discovery', 'toolsUnderstanding', '\\xa0\\xa0']\n0.38377449319238777\n",
          "name": "stdout"
        }
      ]
    }
  ],
  "metadata": {
    "kernelspec": {
      "display_name": "Python 3",
      "language": "python",
      "name": "python3"
    },
    "language_info": {
      "name": "python",
      "version": "3.6.6",
      "mimetype": "text/x-python",
      "codemirror_mode": {
        "name": "ipython",
        "version": 3
      },
      "pygments_lexer": "ipython3",
      "nbconvert_exporter": "python",
      "file_extension": ".py"
    }
  },
  "nbformat": 4,
  "nbformat_minor": 1
}